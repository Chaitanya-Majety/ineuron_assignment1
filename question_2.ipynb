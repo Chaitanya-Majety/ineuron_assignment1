{
 "cells": [
  {
   "cell_type": "code",
   "execution_count": 3,
   "metadata": {},
   "outputs": [
    {
     "name": "stdout",
     "output_type": "stream",
     "text": [
      "Enter first name:chaitanya\n",
      "Enter last_name:majety\n",
      "aynatiahc ytejam\n"
     ]
    }
   ],
   "source": [
    "first_name = input(\"Enter first name:\")\n",
    "last_name = input(\"Enter last_name:\")\n",
    "\n",
    "rev_first_name = first_name[::-1]\n",
    "rev_last_name = last_name[::-1]\n",
    "\n",
    "print(rev_first_name, rev_last_name)\n"
   ]
  },
  {
   "cell_type": "code",
   "execution_count": null,
   "metadata": {},
   "outputs": [],
   "source": []
  }
 ],
 "metadata": {
  "kernelspec": {
   "display_name": "Python 3",
   "language": "python",
   "name": "python3"
  },
  "language_info": {
   "codemirror_mode": {
    "name": "ipython",
    "version": 3
   },
   "file_extension": ".py",
   "mimetype": "text/x-python",
   "name": "python",
   "nbconvert_exporter": "python",
   "pygments_lexer": "ipython3",
   "version": "3.7.6"
  }
 },
 "nbformat": 4,
 "nbformat_minor": 4
}
